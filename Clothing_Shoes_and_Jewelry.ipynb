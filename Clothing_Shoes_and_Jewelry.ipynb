{
 "cells": [
  {
   "cell_type": "code",
   "execution_count": 1,
   "id": "74157d37-0d7c-4eb1-bbd1-1fc7a3fd750e",
   "metadata": {},
   "outputs": [],
   "source": [
    "import warnings\n",
    "warnings.filterwarnings('ignore')\n",
    "\n",
    "import pandas as pd\n",
    "import numpy as np\n",
    "import matplotlib.pyplot as plt\n",
    "import seaborn as sns\n",
    "from sklearn.model_selection import train_test_split\n",
    "from sklearn.preprocessing import LabelEncoder\n",
    "from sklearn import metrics\n",
    "import tensorflow as tf\n",
    "from tensorflow.keras import Model\n",
    "from tensorflow.keras.models import Sequential\n",
    "from tensorflow.keras.layers import LSTM, Activation, Dense, Dropout, Input, Embedding\n",
    "from tensorflow.keras.optimizers import RMSprop\n",
    "from tensorflow.keras.preprocessing.text import Tokenizer\n",
    "from tensorflow.keras.preprocessing import sequence\n",
    "from tensorflow.keras.utils import to_categorical\n",
    "from tensorflow.keras.callbacks import EarlyStopping\n",
    "%matplotlib inline"
   ]
  },
  {
   "cell_type": "code",
   "execution_count": 2,
   "id": "7030dcc6-4a3e-453b-bc19-a04959c323b2",
   "metadata": {},
   "outputs": [],
   "source": [
    "import pandas as pd\n",
    "import gzip\n",
    "\n",
    "def parse(path):\n",
    "  g = gzip.open(path, 'rb')\n",
    "  for l in g:\n",
    "    yield eval(l)\n",
    "\n",
    "def getDF(path):\n",
    "  i = 0\n",
    "  df = {}\n",
    "  for d in parse(path):\n",
    "    df[i] = d\n",
    "    i += 1\n",
    "  return pd.DataFrame.from_dict(df, orient='index')\n",
    "\n",
    "df = getDF('Dataset/reviews_Clothing_Shoes_and_Jewelry_5.json.gz')"
   ]
  },
  {
   "cell_type": "code",
   "execution_count": 3,
   "id": "021bb753-c405-4189-b653-52a6b3242896",
   "metadata": {},
   "outputs": [],
   "source": [
    "# df['class'] = df['overall'].map(lambda x: 'Like' if 4<=x<=5 else 'Neutral' if x==3 else 'Dislike')"
   ]
  },
  {
   "cell_type": "code",
   "execution_count": 4,
   "id": "e856b4fa-9ad1-469f-9544-b6e108347ad8",
   "metadata": {},
   "outputs": [],
   "source": [
    "df['CLASS'] = df['overall'].map(lambda x: 1 if 3<=x<=5 else 0)"
   ]
  },
  {
   "cell_type": "code",
   "execution_count": 5,
   "id": "92bc647d-eae4-4614-a6f6-a30526d5f315",
   "metadata": {},
   "outputs": [],
   "source": [
    "df['V1'] = df['overall'].map(lambda x: 'Like' if 3<=x<=5 else 'Dislike')"
   ]
  },
  {
   "cell_type": "code",
   "execution_count": 6,
   "id": "daf83b45-a8c5-402e-b8d3-5096954f6972",
   "metadata": {},
   "outputs": [
    {
     "data": {
      "text/html": [
       "<div>\n",
       "<style scoped>\n",
       "    .dataframe tbody tr th:only-of-type {\n",
       "        vertical-align: middle;\n",
       "    }\n",
       "\n",
       "    .dataframe tbody tr th {\n",
       "        vertical-align: top;\n",
       "    }\n",
       "\n",
       "    .dataframe thead th {\n",
       "        text-align: right;\n",
       "    }\n",
       "</style>\n",
       "<table border=\"1\" class=\"dataframe\">\n",
       "  <thead>\n",
       "    <tr style=\"text-align: right;\">\n",
       "      <th></th>\n",
       "      <th>reviewerID</th>\n",
       "      <th>asin</th>\n",
       "      <th>reviewerName</th>\n",
       "      <th>helpful</th>\n",
       "      <th>reviewText</th>\n",
       "      <th>overall</th>\n",
       "      <th>summary</th>\n",
       "      <th>unixReviewTime</th>\n",
       "      <th>reviewTime</th>\n",
       "      <th>CLASS</th>\n",
       "      <th>V1</th>\n",
       "    </tr>\n",
       "  </thead>\n",
       "  <tbody>\n",
       "    <tr>\n",
       "      <th>0</th>\n",
       "      <td>A1KLRMWW2FWPL4</td>\n",
       "      <td>0000031887</td>\n",
       "      <td>Amazon Customer \"cameramom\"</td>\n",
       "      <td>[0, 0]</td>\n",
       "      <td>This is a great tutu and at a really great pri...</td>\n",
       "      <td>5.0</td>\n",
       "      <td>Great tutu-  not cheaply made</td>\n",
       "      <td>1297468800</td>\n",
       "      <td>02 12, 2011</td>\n",
       "      <td>1</td>\n",
       "      <td>Like</td>\n",
       "    </tr>\n",
       "    <tr>\n",
       "      <th>1</th>\n",
       "      <td>A2G5TCU2WDFZ65</td>\n",
       "      <td>0000031887</td>\n",
       "      <td>Amazon Customer</td>\n",
       "      <td>[0, 0]</td>\n",
       "      <td>I bought this for my 4 yr old daughter for dan...</td>\n",
       "      <td>5.0</td>\n",
       "      <td>Very Cute!!</td>\n",
       "      <td>1358553600</td>\n",
       "      <td>01 19, 2013</td>\n",
       "      <td>1</td>\n",
       "      <td>Like</td>\n",
       "    </tr>\n",
       "    <tr>\n",
       "      <th>2</th>\n",
       "      <td>A1RLQXYNCMWRWN</td>\n",
       "      <td>0000031887</td>\n",
       "      <td>Carola</td>\n",
       "      <td>[0, 0]</td>\n",
       "      <td>What can I say... my daughters have it in oran...</td>\n",
       "      <td>5.0</td>\n",
       "      <td>I have buy more than one</td>\n",
       "      <td>1357257600</td>\n",
       "      <td>01 4, 2013</td>\n",
       "      <td>1</td>\n",
       "      <td>Like</td>\n",
       "    </tr>\n",
       "    <tr>\n",
       "      <th>3</th>\n",
       "      <td>A8U3FAMSJVHS5</td>\n",
       "      <td>0000031887</td>\n",
       "      <td>Caromcg</td>\n",
       "      <td>[0, 0]</td>\n",
       "      <td>We bought several tutus at once, and they are ...</td>\n",
       "      <td>5.0</td>\n",
       "      <td>Adorable, Sturdy</td>\n",
       "      <td>1398556800</td>\n",
       "      <td>04 27, 2014</td>\n",
       "      <td>1</td>\n",
       "      <td>Like</td>\n",
       "    </tr>\n",
       "    <tr>\n",
       "      <th>4</th>\n",
       "      <td>A3GEOILWLK86XM</td>\n",
       "      <td>0000031887</td>\n",
       "      <td>CJ</td>\n",
       "      <td>[0, 0]</td>\n",
       "      <td>Thank you Halo Heaven great product for Little...</td>\n",
       "      <td>5.0</td>\n",
       "      <td>Grammy's Angels Love it</td>\n",
       "      <td>1394841600</td>\n",
       "      <td>03 15, 2014</td>\n",
       "      <td>1</td>\n",
       "      <td>Like</td>\n",
       "    </tr>\n",
       "  </tbody>\n",
       "</table>\n",
       "</div>"
      ],
      "text/plain": [
       "       reviewerID        asin                 reviewerName helpful  \\\n",
       "0  A1KLRMWW2FWPL4  0000031887  Amazon Customer \"cameramom\"  [0, 0]   \n",
       "1  A2G5TCU2WDFZ65  0000031887              Amazon Customer  [0, 0]   \n",
       "2  A1RLQXYNCMWRWN  0000031887                       Carola  [0, 0]   \n",
       "3   A8U3FAMSJVHS5  0000031887                      Caromcg  [0, 0]   \n",
       "4  A3GEOILWLK86XM  0000031887                           CJ  [0, 0]   \n",
       "\n",
       "                                          reviewText  overall  \\\n",
       "0  This is a great tutu and at a really great pri...      5.0   \n",
       "1  I bought this for my 4 yr old daughter for dan...      5.0   \n",
       "2  What can I say... my daughters have it in oran...      5.0   \n",
       "3  We bought several tutus at once, and they are ...      5.0   \n",
       "4  Thank you Halo Heaven great product for Little...      5.0   \n",
       "\n",
       "                         summary  unixReviewTime   reviewTime  CLASS    V1  \n",
       "0  Great tutu-  not cheaply made      1297468800  02 12, 2011      1  Like  \n",
       "1                    Very Cute!!      1358553600  01 19, 2013      1  Like  \n",
       "2       I have buy more than one      1357257600   01 4, 2013      1  Like  \n",
       "3               Adorable, Sturdy      1398556800  04 27, 2014      1  Like  \n",
       "4        Grammy's Angels Love it      1394841600  03 15, 2014      1  Like  "
      ]
     },
     "execution_count": 6,
     "metadata": {},
     "output_type": "execute_result"
    }
   ],
   "source": [
    "df.head()"
   ]
  },
  {
   "cell_type": "code",
   "execution_count": 7,
   "id": "f1f99a79-e6b9-4018-80cd-1fe6e71291e6",
   "metadata": {},
   "outputs": [
    {
     "data": {
      "text/plain": [
       "5.0    163240\n",
       "4.0     58357\n",
       "3.0     30425\n",
       "2.0     15463\n",
       "1.0     11192\n",
       "Name: overall, dtype: int64"
      ]
     },
     "execution_count": 7,
     "metadata": {},
     "output_type": "execute_result"
    }
   ],
   "source": [
    "df.overall.value_counts()"
   ]
  },
  {
   "cell_type": "code",
   "execution_count": 8,
   "id": "a5f48e51-b5cf-4c1f-a576-26e02932334f",
   "metadata": {},
   "outputs": [
    {
     "data": {
      "text/plain": [
       "1    252022\n",
       "0     26655\n",
       "Name: CLASS, dtype: int64"
      ]
     },
     "execution_count": 8,
     "metadata": {},
     "output_type": "execute_result"
    }
   ],
   "source": [
    "df.CLASS.value_counts()"
   ]
  },
  {
   "cell_type": "code",
   "execution_count": 9,
   "id": "a0bcb47d-4083-4220-8020-dc06f07a48a7",
   "metadata": {},
   "outputs": [
    {
     "data": {
      "text/plain": [
       "Like       252022\n",
       "Dislike     26655\n",
       "Name: V1, dtype: int64"
      ]
     },
     "execution_count": 9,
     "metadata": {},
     "output_type": "execute_result"
    }
   ],
   "source": [
    "df.V1.value_counts()"
   ]
  },
  {
   "cell_type": "code",
   "execution_count": 10,
   "id": "7e50d0db-dec9-421e-bea4-2b05f8e7d895",
   "metadata": {},
   "outputs": [
    {
     "name": "stdout",
     "output_type": "stream",
     "text": [
      "<class 'pandas.core.frame.DataFrame'>\n",
      "Int64Index: 278677 entries, 0 to 278676\n",
      "Data columns (total 4 columns):\n",
      " #   Column      Non-Null Count   Dtype  \n",
      "---  ------      --------------   -----  \n",
      " 0   reviewText  278677 non-null  object \n",
      " 1   overall     278677 non-null  float64\n",
      " 2   CLASS       278677 non-null  int64  \n",
      " 3   V1          278677 non-null  object \n",
      "dtypes: float64(1), int64(1), object(2)\n",
      "memory usage: 10.6+ MB\n"
     ]
    }
   ],
   "source": [
    "data = df.drop(['reviewerID', 'asin', 'reviewerName','helpful','unixReviewTime','reviewTime','summary'], axis = 1)\n",
    "data.info()"
   ]
  },
  {
   "cell_type": "code",
   "execution_count": 11,
   "id": "48c7926f-128a-4a3a-931b-e86238ac406e",
   "metadata": {},
   "outputs": [
    {
     "data": {
      "text/html": [
       "<div>\n",
       "<style scoped>\n",
       "    .dataframe tbody tr th:only-of-type {\n",
       "        vertical-align: middle;\n",
       "    }\n",
       "\n",
       "    .dataframe tbody tr th {\n",
       "        vertical-align: top;\n",
       "    }\n",
       "\n",
       "    .dataframe thead th {\n",
       "        text-align: right;\n",
       "    }\n",
       "</style>\n",
       "<table border=\"1\" class=\"dataframe\">\n",
       "  <thead>\n",
       "    <tr style=\"text-align: right;\">\n",
       "      <th></th>\n",
       "      <th>reviewText</th>\n",
       "      <th>overall</th>\n",
       "      <th>CLASS</th>\n",
       "      <th>V1</th>\n",
       "      <th>WORDS</th>\n",
       "    </tr>\n",
       "  </thead>\n",
       "  <tbody>\n",
       "    <tr>\n",
       "      <th>0</th>\n",
       "      <td>This is a great tutu and at a really great pri...</td>\n",
       "      <td>5.0</td>\n",
       "      <td>1</td>\n",
       "      <td>Like</td>\n",
       "      <td>35</td>\n",
       "    </tr>\n",
       "    <tr>\n",
       "      <th>1</th>\n",
       "      <td>I bought this for my 4 yr old daughter for dan...</td>\n",
       "      <td>5.0</td>\n",
       "      <td>1</td>\n",
       "      <td>Like</td>\n",
       "      <td>61</td>\n",
       "    </tr>\n",
       "    <tr>\n",
       "      <th>2</th>\n",
       "      <td>What can I say... my daughters have it in oran...</td>\n",
       "      <td>5.0</td>\n",
       "      <td>1</td>\n",
       "      <td>Like</td>\n",
       "      <td>62</td>\n",
       "    </tr>\n",
       "    <tr>\n",
       "      <th>3</th>\n",
       "      <td>We bought several tutus at once, and they are ...</td>\n",
       "      <td>5.0</td>\n",
       "      <td>1</td>\n",
       "      <td>Like</td>\n",
       "      <td>76</td>\n",
       "    </tr>\n",
       "    <tr>\n",
       "      <th>4</th>\n",
       "      <td>Thank you Halo Heaven great product for Little...</td>\n",
       "      <td>5.0</td>\n",
       "      <td>1</td>\n",
       "      <td>Like</td>\n",
       "      <td>80</td>\n",
       "    </tr>\n",
       "  </tbody>\n",
       "</table>\n",
       "</div>"
      ],
      "text/plain": [
       "                                          reviewText  overall  CLASS    V1  \\\n",
       "0  This is a great tutu and at a really great pri...      5.0      1  Like   \n",
       "1  I bought this for my 4 yr old daughter for dan...      5.0      1  Like   \n",
       "2  What can I say... my daughters have it in oran...      5.0      1  Like   \n",
       "3  We bought several tutus at once, and they are ...      5.0      1  Like   \n",
       "4  Thank you Halo Heaven great product for Little...      5.0      1  Like   \n",
       "\n",
       "   WORDS  \n",
       "0     35  \n",
       "1     61  \n",
       "2     62  \n",
       "3     76  \n",
       "4     80  "
      ]
     },
     "execution_count": 11,
     "metadata": {},
     "output_type": "execute_result"
    }
   ],
   "source": [
    "data['WORDS'] = data['reviewText'].map(lambda x: len(x.split()))\n",
    "data.head()"
   ]
  },
  {
   "cell_type": "code",
   "execution_count": 12,
   "id": "a8834b5e-8da0-4f45-a1d9-b4bc8f478351",
   "metadata": {},
   "outputs": [
    {
     "data": {
      "text/plain": [
       "count    278677.000000\n",
       "mean         59.953046\n",
       "std          61.289861\n",
       "min           0.000000\n",
       "25%          26.000000\n",
       "50%          41.000000\n",
       "75%          70.000000\n",
       "max        3882.000000\n",
       "Name: WORDS, dtype: float64"
      ]
     },
     "execution_count": 12,
     "metadata": {},
     "output_type": "execute_result"
    }
   ],
   "source": [
    "data['WORDS'].describe()"
   ]
  },
  {
   "cell_type": "code",
   "execution_count": 13,
   "id": "ced22c1a-94f1-4558-9f5e-f084fb01a894",
   "metadata": {},
   "outputs": [
    {
     "name": "stdout",
     "output_type": "stream",
     "text": [
      "<class 'pandas.core.frame.DataFrame'>\n",
      "Int64Index: 278677 entries, 0 to 278676\n",
      "Data columns (total 5 columns):\n",
      " #   Column      Non-Null Count   Dtype  \n",
      "---  ------      --------------   -----  \n",
      " 0   reviewText  278677 non-null  object \n",
      " 1   overall     278677 non-null  float64\n",
      " 2   CLASS       278677 non-null  int64  \n",
      " 3   V1          278677 non-null  object \n",
      " 4   WORDS       278677 non-null  int64  \n",
      "dtypes: float64(1), int64(2), object(2)\n",
      "memory usage: 12.8+ MB\n"
     ]
    }
   ],
   "source": [
    "data.info()"
   ]
  },
  {
   "cell_type": "code",
   "execution_count": 14,
   "id": "c4d4f3d2-19af-4663-95c4-f54438030fd1",
   "metadata": {},
   "outputs": [],
   "source": [
    "import matplotlib.pyplot as plt\n",
    "import seaborn as sns"
   ]
  },
  {
   "cell_type": "code",
   "execution_count": 15,
   "id": "94e81374-f82c-4ac2-b865-75686465a407",
   "metadata": {},
   "outputs": [
    {
     "data": {
      "text/plain": [
       "Text(0.5, 1.0, 'Number of Like(1) and Dislike(0)')"
      ]
     },
     "execution_count": 15,
     "metadata": {},
     "output_type": "execute_result"
    },
    {
     "data": {
      "image/png": "[encoded data removed]",
      "text/plain": [
       "<Figure size 432x288 with 1 Axes>"
      ]
     },
     "metadata": {
      "needs_background": "light"
     },
     "output_type": "display_data"
    }
   ],
   "source": [
    "sns.countplot(data['CLASS'])\n",
    "plt.xlabel('Label')\n",
    "plt.title('Number of Like(1) and Dislike(0)')"
   ]
  },
  {
   "cell_type": "code",
   "execution_count": 16,
   "id": "19a3f238-9f16-489e-a5cd-9ad09c975b75",
   "metadata": {},
   "outputs": [],
   "source": [
    "X = data.reviewText # input \n",
    "Y = df['CLASS'] # output"
   ]
  },
  {
   "cell_type": "code",
   "execution_count": 17,
   "id": "312eb544-6827-4782-8984-4eee592d409b",
   "metadata": {},
   "outputs": [],
   "source": [
    "X_train, X_test, Y_train, Y_test = train_test_split(X,Y,test_size=0.3)"
   ]
  },
  {
   "cell_type": "code",
   "execution_count": 18,
   "id": "c61fe7bd-1bf7-4bca-8a6a-839516022456",
   "metadata": {},
   "outputs": [],
   "source": [
    "max_words = 1000\n",
    "max_len = 100\n",
    "tok = Tokenizer(num_words=max_words)\n",
    "tok.fit_on_texts(X_train)\n",
    "\n",
    "sequences = tok.texts_to_sequences(X_train) \n",
    "sequences_matrix = sequence.pad_sequences(sequences, maxlen=max_len)"
   ]
  },
  {
   "cell_type": "code",
   "execution_count": 19,
   "id": "0a857c25-f2ef-4652-82d6-323ffc1c611e",
   "metadata": {},
   "outputs": [
    {
     "name": "stdout",
     "output_type": "stream",
     "text": [
      "[[2, 38, 889, 38, 38, 38, 15, 10, 169, 79, 6, 8, 45, 6, 202, 30, 28, 146, 930, 5, 2, 74, 197, 41, 51, 64, 9, 12, 39, 88, 2, 25, 630, 6, 35, 30, 28, 1, 224, 15, 6, 169, 2, 394, 168, 1, 758, 5, 12, 29, 51, 102, 4, 37, 71, 112, 24, 137, 54, 96, 536, 268], [23, 115, 15, 56, 5, 299, 44, 73, 8, 12, 798, 65, 2, 372, 31, 4, 29, 270, 282, 207, 29, 98, 46, 135, 20, 5, 45]]\n"
     ]
    }
   ],
   "source": [
    "print(sequences[:2])"
   ]
  },
  {
   "cell_type": "code",
   "execution_count": 20,
   "id": "726a18d1-16be-4bdd-80bc-caef66ce10c5",
   "metadata": {},
   "outputs": [
    {
     "data": {
      "text/plain": [
       "array([[  0,   0,   0,   0,   0,   0,   0,   0,   0,   0,   0,   0,   0,\n",
       "          0,   0,   0,   0,   0,   0,   0,   0,   0,   0,   0,   0,   0,\n",
       "          0,   0,   0,   0,   0,   0,   0,   0,   0,   0,   0,   0,   2,\n",
       "         38, 889,  38,  38,  38,  15,  10, 169,  79,   6,   8,  45,   6,\n",
       "        202,  30,  28, 146, 930,   5,   2,  74, 197,  41,  51,  64,   9,\n",
       "         12,  39,  88,   2,  25, 630,   6,  35,  30,  28,   1, 224,  15,\n",
       "          6, 169,   2, 394, 168,   1, 758,   5,  12,  29,  51, 102,   4,\n",
       "         37,  71, 112,  24, 137,  54,  96, 536, 268],\n",
       "       [  0,   0,   0,   0,   0,   0,   0,   0,   0,   0,   0,   0,   0,\n",
       "          0,   0,   0,   0,   0,   0,   0,   0,   0,   0,   0,   0,   0,\n",
       "          0,   0,   0,   0,   0,   0,   0,   0,   0,   0,   0,   0,   0,\n",
       "          0,   0,   0,   0,   0,   0,   0,   0,   0,   0,   0,   0,   0,\n",
       "          0,   0,   0,   0,   0,   0,   0,   0,   0,   0,   0,   0,   0,\n",
       "          0,   0,   0,   0,   0,   0,   0,   0,  23, 115,  15,  56,   5,\n",
       "        299,  44,  73,   8,  12, 798,  65,   2, 372,  31,   4,  29, 270,\n",
       "        282, 207,  29,  98,  46, 135,  20,   5,  45]])"
      ]
     },
     "execution_count": 20,
     "metadata": {},
     "output_type": "execute_result"
    }
   ],
   "source": [
    "sequences_matrix[:2]"
   ]
  },
  {
   "cell_type": "markdown",
   "id": "efa05449-0d55-4e4e-a7b8-97df4c1b7ba2",
   "metadata": {},
   "source": [
    "### RNN"
   ]
  },
  {
   "cell_type": "code",
   "execution_count": 21,
   "id": "3d078cd5-42f3-4c01-bb91-7a5d7587652b",
   "metadata": {},
   "outputs": [],
   "source": [
    "# Define model\n",
    "model = Sequential()\n",
    "model.add(Embedding(max_words, 50))\n",
    "model.add(LSTM(64))\n",
    "model.add(Dense(256, activation='relu'))\n",
    "model.add(Dropout(0.5))\n",
    "model.add(Dense(1, activation='sigmoid'))"
   ]
  },
  {
   "cell_type": "code",
   "execution_count": 22,
   "id": "9ec85554-7039-4243-96a4-af2c5759cfc1",
   "metadata": {},
   "outputs": [],
   "source": [
    "# compile\n",
    "model.compile(loss='binary_crossentropy',\n",
    "              optimizer=RMSprop(),\n",
    "              metrics=['accuracy'])"
   ]
  },
  {
   "cell_type": "code",
   "execution_count": 23,
   "id": "138504f8-1324-44d7-96ea-b43be2c7cdc1",
   "metadata": {},
   "outputs": [
    {
     "name": "stdout",
     "output_type": "stream",
     "text": [
      "Model: \"sequential\"\n",
      "_________________________________________________________________\n",
      " Layer (type)                Output Shape              Param #   \n",
      "=================================================================\n",
      " embedding (Embedding)       (None, None, 50)          50000     \n",
      "                                                                 \n",
      " lstm (LSTM)                 (None, 64)                29440     \n",
      "                                                                 \n",
      " dense (Dense)               (None, 256)               16640     \n",
      "                                                                 \n",
      " dropout (Dropout)           (None, 256)               0         \n",
      "                                                                 \n",
      " dense_1 (Dense)             (None, 1)                 257       \n",
      "                                                                 \n",
      "=================================================================\n",
      "Total params: 96,337\n",
      "Trainable params: 96,337\n",
      "Non-trainable params: 0\n",
      "_________________________________________________________________\n"
     ]
    }
   ],
   "source": [
    "model.summary()"
   ]
  },
  {
   "cell_type": "code",
   "execution_count": 24,
   "id": "c5e7b56f-daf2-48a6-99b1-8110afc7090b",
   "metadata": {},
   "outputs": [],
   "source": [
    "from tensorflow.keras.utils import plot_model\n",
    "from IPython.display import Image"
   ]
  },
  {
   "cell_type": "code",
   "execution_count": 25,
   "id": "83f0bc33-9018-4dcb-a04b-09859f4cc9c1",
   "metadata": {},
   "outputs": [
    {
     "data": {
      "image/png": "[encoded data removed]",
      "text/plain": [
       "<IPython.core.display.Image object>"
      ]
     },
     "execution_count": 25,
     "metadata": {},
     "output_type": "execute_result"
    }
   ],
   "source": [
    "plot_model(model, to_file='LSTM_model.png', show_shapes=True)\n",
    "Image(filename='LSTM_model.png')"
   ]
  },
  {
   "cell_type": "code",
   "execution_count": 26,
   "id": "e41b2175-1427-4894-85b6-f9352fb09594",
   "metadata": {},
   "outputs": [
    {
     "name": "stdout",
     "output_type": "stream",
     "text": [
      "Epoch 1/50\n",
      "1301/1301 [==============================] - 122s 92ms/step - loss: 0.2159 - accuracy: 0.9169 - val_loss: 0.2077 - val_accuracy: 0.9112\n",
      "Epoch 2/50\n",
      "1301/1301 [==============================] - 138s 106ms/step - loss: 0.1881 - accuracy: 0.9250 - val_loss: 0.1790 - val_accuracy: 0.9280\n",
      "Epoch 3/50\n",
      "1301/1301 [==============================] - 143s 110ms/step - loss: 0.1747 - accuracy: 0.9293 - val_loss: 0.1719 - val_accuracy: 0.9294\n",
      "Epoch 4/50\n",
      "1301/1301 [==============================] - 140s 107ms/step - loss: 0.1657 - accuracy: 0.9322 - val_loss: 0.1645 - val_accuracy: 0.9309\n",
      "Epoch 5/50\n",
      "1301/1301 [==============================] - 130s 100ms/step - loss: 0.1595 - accuracy: 0.9343 - val_loss: 0.1585 - val_accuracy: 0.9342\n",
      "Epoch 6/50\n",
      "1301/1301 [==============================] - 131s 100ms/step - loss: 0.1552 - accuracy: 0.9362 - val_loss: 0.1655 - val_accuracy: 0.9332\n",
      "Epoch 7/50\n",
      "1301/1301 [==============================] - 132s 102ms/step - loss: 0.1510 - accuracy: 0.9381 - val_loss: 0.1761 - val_accuracy: 0.9311\n",
      "Epoch 8/50\n",
      "1301/1301 [==============================] - 127s 98ms/step - loss: 0.1481 - accuracy: 0.9393 - val_loss: 0.1590 - val_accuracy: 0.9327\n",
      "Epoch 9/50\n",
      "1301/1301 [==============================] - 129s 99ms/step - loss: 0.1452 - accuracy: 0.9402 - val_loss: 0.1653 - val_accuracy: 0.9334\n",
      "Epoch 10/50\n",
      "1301/1301 [==============================] - 133s 102ms/step - loss: 0.1420 - accuracy: 0.9416 - val_loss: 0.1578 - val_accuracy: 0.9337\n",
      "Epoch 11/50\n",
      "1301/1301 [==============================] - 128s 99ms/step - loss: 0.1391 - accuracy: 0.9430 - val_loss: 0.1616 - val_accuracy: 0.9337\n",
      "Epoch 12/50\n",
      "1301/1301 [==============================] - 131s 101ms/step - loss: 0.1371 - accuracy: 0.9434 - val_loss: 0.1698 - val_accuracy: 0.9272\n",
      "Epoch 13/50\n",
      "1301/1301 [==============================] - 127s 97ms/step - loss: 0.1338 - accuracy: 0.9450 - val_loss: 0.1623 - val_accuracy: 0.9342\n",
      "Epoch 14/50\n",
      "1301/1301 [==============================] - 133s 103ms/step - loss: 0.1311 - accuracy: 0.9461 - val_loss: 0.1734 - val_accuracy: 0.9334\n",
      "Epoch 15/50\n",
      "1301/1301 [==============================] - 130s 100ms/step - loss: 0.1283 - accuracy: 0.9472 - val_loss: 0.1653 - val_accuracy: 0.9335\n"
     ]
    }
   ],
   "source": [
    "# fit\n",
    "history = model.fit(sequences_matrix, Y_train,\n",
    "                    batch_size=120,\n",
    "                    epochs=50,\n",
    "                    validation_split=0.2,\n",
    "                    callbacks=[EarlyStopping(monitor='val_loss', patience=5)])"
   ]
  },
  {
   "cell_type": "code",
   "execution_count": 27,
   "id": "3d9a0ec5-d108-4f52-aed2-715a334cdbd0",
   "metadata": {},
   "outputs": [],
   "source": [
    "# test: text to sequence\n",
    "test_sequences = tok.texts_to_sequences(X_test)\n",
    "test_sequences_matrix = sequence.pad_sequences(test_sequences, maxlen=max_len)"
   ]
  },
  {
   "cell_type": "code",
   "execution_count": 28,
   "id": "1c4e4673-35f6-4d9b-a508-8699d5377781",
   "metadata": {},
   "outputs": [
    {
     "name": "stdout",
     "output_type": "stream",
     "text": [
      "2613/2613 [==============================] - 39s 15ms/step - loss: 0.1642 - accuracy: 0.9346\n"
     ]
    }
   ],
   "source": [
    "accr = model.evaluate(test_sequences_matrix,Y_test)"
   ]
  },
  {
   "cell_type": "code",
   "execution_count": 29,
   "id": "60bd6b19-779f-4fc6-8df2-f779750d18ce",
   "metadata": {},
   "outputs": [
    {
     "name": "stdout",
     "output_type": "stream",
     "text": [
      "Test set\n",
      "  Loss: 0.164\n",
      "  Accuracy: 0.935\n"
     ]
    }
   ],
   "source": [
    "print('Test set\\n  Loss: {:0.3f}\\n  Accuracy: {:0.3f}'.format(accr[0],accr[1]))"
   ]
  },
  {
   "cell_type": "markdown",
   "id": "6c4d4315-a229-4a73-9993-575b033179ad",
   "metadata": {},
   "source": [
    "##### Comment:\n",
    "- The model reached 93% accuracy"
   ]
  },
  {
   "cell_type": "code",
   "execution_count": null,
   "id": "9894b469-b6a0-4d33-b132-bf838b077ff0",
   "metadata": {},
   "outputs": [],
   "source": []
  }
 ],
 "metadata": {
  "kernelspec": {
   "display_name": "Python 3 (ipykernel)",
   "language": "python",
   "name": "python3"
  },
  "language_info": {
   "codemirror_mode": {
    "name": "ipython",
    "version": 3
   },
   "file_extension": ".py",
   "mimetype": "text/x-python",
   "name": "python",
   "nbconvert_exporter": "python",
   "pygments_lexer": "ipython3",
   "version": "3.8.9"
  }
 },
 "nbformat": 4,
 "nbformat_minor": 5
}
